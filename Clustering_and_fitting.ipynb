{
  "nbformat": 4,
  "nbformat_minor": 0,
  "metadata": {
    "colab": {
      "provenance": []
    },
    "kernelspec": {
      "name": "python3",
      "display_name": "Python 3"
    },
    "language_info": {
      "name": "python"
    }
  },
  "cells": [
    {
      "cell_type": "code",
      "execution_count": 1,
      "metadata": {
        "id": "bVJ2qnq3hLv6"
      },
      "outputs": [],
      "source": [
        "import pandas as pd\n",
        "import numpy as np\n",
        "import matplotlib.pyplot as plt\n",
        "from sklearn.preprocessing import StandardScaler\n",
        "from sklearn.decomposition import PCA\n",
        "from sklearn.cluster import KMeans\n",
        "from statsmodels.tsa.holtwinters import ExponentialSmoothing"
      ]
    },
    {
      "cell_type": "code",
      "source": [
        "df = pd.read_csv('API_19_DS2_en_csv_v2_5455435.csv')\n"
      ],
      "metadata": {
        "id": "wlKM66Cqkmc3"
      },
      "execution_count": 2,
      "outputs": []
    },
    {
      "cell_type": "code",
      "source": [
        "data= df"
      ],
      "metadata": {
        "id": "9KmFWLSSrITO"
      },
      "execution_count": 3,
      "outputs": []
    },
    {
      "cell_type": "code",
      "source": [
        "data"
      ],
      "metadata": {
        "colab": {
          "base_uri": "https://localhost:8080/",
          "height": 922
        },
        "id": "Y4-vwD0cknWP",
        "outputId": "24936946-61cc-40c9-b49c-18c3b25aa875"
      },
      "execution_count": 4,
      "outputs": [
        {
          "output_type": "execute_result",
          "data": {
            "text/plain": [
              "      Country Name Country Code  \\\n",
              "0            Aruba          ABW   \n",
              "1            Aruba          ABW   \n",
              "2            Aruba          ABW   \n",
              "3            Aruba          ABW   \n",
              "4            Aruba          ABW   \n",
              "...            ...          ...   \n",
              "20211     Zimbabwe          ZWE   \n",
              "20212     Zimbabwe          ZWE   \n",
              "20213     Zimbabwe          ZWE   \n",
              "20214     Zimbabwe          ZWE   \n",
              "20215     Zimbabwe          ZWE   \n",
              "\n",
              "                                          Indicator Name     Indicator Code  \\\n",
              "0               Urban population (% of total population)  SP.URB.TOTL.IN.ZS   \n",
              "1                                       Urban population        SP.URB.TOTL   \n",
              "2                     Urban population growth (annual %)        SP.URB.GROW   \n",
              "3                                      Population, total        SP.POP.TOTL   \n",
              "4                           Population growth (annual %)        SP.POP.GROW   \n",
              "...                                                  ...                ...   \n",
              "20211  Rural land area where elevation is below 5 met...  AG.LND.EL5M.RU.ZS   \n",
              "20212  Rural land area where elevation is below 5 met...  AG.LND.EL5M.RU.K2   \n",
              "20213                       Arable land (% of land area)     AG.LND.ARBL.ZS   \n",
              "20214                 Agricultural land (% of land area)     AG.LND.AGRI.ZS   \n",
              "20215                         Agricultural land (sq. km)     AG.LND.AGRI.K2   \n",
              "\n",
              "            1960           1961           1962           1963           1964  \\\n",
              "0         50.776      50.761000      50.746000      50.730000      50.715000   \n",
              "1      27728.000   28330.000000   28764.000000   29157.000000   29505.000000   \n",
              "2            NaN       2.147858       1.520329       1.357042       1.186472   \n",
              "3      54608.000   55811.000000   56682.000000   57475.000000   58178.000000   \n",
              "4            NaN       2.179059       1.548572       1.389337       1.215721   \n",
              "...          ...            ...            ...            ...            ...   \n",
              "20211        NaN            NaN            NaN            NaN            NaN   \n",
              "20212        NaN            NaN            NaN            NaN            NaN   \n",
              "20213        NaN       4.872690       5.001939       5.131188       5.260437   \n",
              "20214        NaN      28.396019      28.615743      28.835466      29.055189   \n",
              "20215        NaN  109850.000000  110700.000000  111550.000000  112400.000000   \n",
              "\n",
              "                1965  ...           2013           2014           2015  \\\n",
              "0          50.700000  ...      42.990000      43.041000      43.108000   \n",
              "1       29802.000000  ...   44228.000000   44588.000000   44943.000000   \n",
              "2           1.001576  ...       0.826413       0.810669       0.793026   \n",
              "3       58782.000000  ...  102880.000000  103594.000000  104257.000000   \n",
              "4           1.032841  ...       0.749301       0.691615       0.637959   \n",
              "...              ...  ...            ...            ...            ...   \n",
              "20211            NaN  ...            NaN            NaN       0.000000   \n",
              "20212            NaN  ...            NaN            NaN       0.000000   \n",
              "20213       5.337986  ...      10.339925      10.339925      10.339925   \n",
              "20214      29.223213  ...      41.876696      41.876696      41.876696   \n",
              "20215  113050.000000  ...  162000.000000  162000.000000  162000.000000   \n",
              "\n",
              "                2016           2017           2018           2019  \\\n",
              "0          43.192000      43.293000      43.411000      43.546000   \n",
              "1       45297.000000   45648.000000   45999.000000   46351.000000   \n",
              "2           0.784578       0.771899       0.765986       0.762321   \n",
              "3      104874.000000  105439.000000  105962.000000  106442.000000   \n",
              "4           0.590062       0.537296       0.494795       0.451970   \n",
              "...              ...            ...            ...            ...   \n",
              "20211            NaN            NaN            NaN            NaN   \n",
              "20212            NaN            NaN            NaN            NaN   \n",
              "20213      10.339925      10.339925      10.339925      10.339925   \n",
              "20214      41.876696      41.876696      41.876696      41.876696   \n",
              "20215  162000.000000  162000.000000  162000.000000  162000.000000   \n",
              "\n",
              "                2020           2021  2022  \n",
              "0          43.697000      43.866000   NaN  \n",
              "1       46574.000000   46734.000000   NaN  \n",
              "2           0.479958       0.342951   NaN  \n",
              "3      106585.000000  106537.000000   NaN  \n",
              "4           0.134255      -0.045045   NaN  \n",
              "...              ...            ...   ...  \n",
              "20211            NaN            NaN   NaN  \n",
              "20212            NaN            NaN   NaN  \n",
              "20213      10.339925            NaN   NaN  \n",
              "20214      41.876696            NaN   NaN  \n",
              "20215  162000.000000            NaN   NaN  \n",
              "\n",
              "[20216 rows x 67 columns]"
            ],
            "text/html": [
              "\n",
              "  <div id=\"df-e4e92e92-6965-4c0b-8864-f711717ee316\">\n",
              "    <div class=\"colab-df-container\">\n",
              "      <div>\n",
              "<style scoped>\n",
              "    .dataframe tbody tr th:only-of-type {\n",
              "        vertical-align: middle;\n",
              "    }\n",
              "\n",
              "    .dataframe tbody tr th {\n",
              "        vertical-align: top;\n",
              "    }\n",
              "\n",
              "    .dataframe thead th {\n",
              "        text-align: right;\n",
              "    }\n",
              "</style>\n",
              "<table border=\"1\" class=\"dataframe\">\n",
              "  <thead>\n",
              "    <tr style=\"text-align: right;\">\n",
              "      <th></th>\n",
              "      <th>Country Name</th>\n",
              "      <th>Country Code</th>\n",
              "      <th>Indicator Name</th>\n",
              "      <th>Indicator Code</th>\n",
              "      <th>1960</th>\n",
              "      <th>1961</th>\n",
              "      <th>1962</th>\n",
              "      <th>1963</th>\n",
              "      <th>1964</th>\n",
              "      <th>1965</th>\n",
              "      <th>...</th>\n",
              "      <th>2013</th>\n",
              "      <th>2014</th>\n",
              "      <th>2015</th>\n",
              "      <th>2016</th>\n",
              "      <th>2017</th>\n",
              "      <th>2018</th>\n",
              "      <th>2019</th>\n",
              "      <th>2020</th>\n",
              "      <th>2021</th>\n",
              "      <th>2022</th>\n",
              "    </tr>\n",
              "  </thead>\n",
              "  <tbody>\n",
              "    <tr>\n",
              "      <th>0</th>\n",
              "      <td>Aruba</td>\n",
              "      <td>ABW</td>\n",
              "      <td>Urban population (% of total population)</td>\n",
              "      <td>SP.URB.TOTL.IN.ZS</td>\n",
              "      <td>50.776</td>\n",
              "      <td>50.761000</td>\n",
              "      <td>50.746000</td>\n",
              "      <td>50.730000</td>\n",
              "      <td>50.715000</td>\n",
              "      <td>50.700000</td>\n",
              "      <td>...</td>\n",
              "      <td>42.990000</td>\n",
              "      <td>43.041000</td>\n",
              "      <td>43.108000</td>\n",
              "      <td>43.192000</td>\n",
              "      <td>43.293000</td>\n",
              "      <td>43.411000</td>\n",
              "      <td>43.546000</td>\n",
              "      <td>43.697000</td>\n",
              "      <td>43.866000</td>\n",
              "      <td>NaN</td>\n",
              "    </tr>\n",
              "    <tr>\n",
              "      <th>1</th>\n",
              "      <td>Aruba</td>\n",
              "      <td>ABW</td>\n",
              "      <td>Urban population</td>\n",
              "      <td>SP.URB.TOTL</td>\n",
              "      <td>27728.000</td>\n",
              "      <td>28330.000000</td>\n",
              "      <td>28764.000000</td>\n",
              "      <td>29157.000000</td>\n",
              "      <td>29505.000000</td>\n",
              "      <td>29802.000000</td>\n",
              "      <td>...</td>\n",
              "      <td>44228.000000</td>\n",
              "      <td>44588.000000</td>\n",
              "      <td>44943.000000</td>\n",
              "      <td>45297.000000</td>\n",
              "      <td>45648.000000</td>\n",
              "      <td>45999.000000</td>\n",
              "      <td>46351.000000</td>\n",
              "      <td>46574.000000</td>\n",
              "      <td>46734.000000</td>\n",
              "      <td>NaN</td>\n",
              "    </tr>\n",
              "    <tr>\n",
              "      <th>2</th>\n",
              "      <td>Aruba</td>\n",
              "      <td>ABW</td>\n",
              "      <td>Urban population growth (annual %)</td>\n",
              "      <td>SP.URB.GROW</td>\n",
              "      <td>NaN</td>\n",
              "      <td>2.147858</td>\n",
              "      <td>1.520329</td>\n",
              "      <td>1.357042</td>\n",
              "      <td>1.186472</td>\n",
              "      <td>1.001576</td>\n",
              "      <td>...</td>\n",
              "      <td>0.826413</td>\n",
              "      <td>0.810669</td>\n",
              "      <td>0.793026</td>\n",
              "      <td>0.784578</td>\n",
              "      <td>0.771899</td>\n",
              "      <td>0.765986</td>\n",
              "      <td>0.762321</td>\n",
              "      <td>0.479958</td>\n",
              "      <td>0.342951</td>\n",
              "      <td>NaN</td>\n",
              "    </tr>\n",
              "    <tr>\n",
              "      <th>3</th>\n",
              "      <td>Aruba</td>\n",
              "      <td>ABW</td>\n",
              "      <td>Population, total</td>\n",
              "      <td>SP.POP.TOTL</td>\n",
              "      <td>54608.000</td>\n",
              "      <td>55811.000000</td>\n",
              "      <td>56682.000000</td>\n",
              "      <td>57475.000000</td>\n",
              "      <td>58178.000000</td>\n",
              "      <td>58782.000000</td>\n",
              "      <td>...</td>\n",
              "      <td>102880.000000</td>\n",
              "      <td>103594.000000</td>\n",
              "      <td>104257.000000</td>\n",
              "      <td>104874.000000</td>\n",
              "      <td>105439.000000</td>\n",
              "      <td>105962.000000</td>\n",
              "      <td>106442.000000</td>\n",
              "      <td>106585.000000</td>\n",
              "      <td>106537.000000</td>\n",
              "      <td>NaN</td>\n",
              "    </tr>\n",
              "    <tr>\n",
              "      <th>4</th>\n",
              "      <td>Aruba</td>\n",
              "      <td>ABW</td>\n",
              "      <td>Population growth (annual %)</td>\n",
              "      <td>SP.POP.GROW</td>\n",
              "      <td>NaN</td>\n",
              "      <td>2.179059</td>\n",
              "      <td>1.548572</td>\n",
              "      <td>1.389337</td>\n",
              "      <td>1.215721</td>\n",
              "      <td>1.032841</td>\n",
              "      <td>...</td>\n",
              "      <td>0.749301</td>\n",
              "      <td>0.691615</td>\n",
              "      <td>0.637959</td>\n",
              "      <td>0.590062</td>\n",
              "      <td>0.537296</td>\n",
              "      <td>0.494795</td>\n",
              "      <td>0.451970</td>\n",
              "      <td>0.134255</td>\n",
              "      <td>-0.045045</td>\n",
              "      <td>NaN</td>\n",
              "    </tr>\n",
              "    <tr>\n",
              "      <th>...</th>\n",
              "      <td>...</td>\n",
              "      <td>...</td>\n",
              "      <td>...</td>\n",
              "      <td>...</td>\n",
              "      <td>...</td>\n",
              "      <td>...</td>\n",
              "      <td>...</td>\n",
              "      <td>...</td>\n",
              "      <td>...</td>\n",
              "      <td>...</td>\n",
              "      <td>...</td>\n",
              "      <td>...</td>\n",
              "      <td>...</td>\n",
              "      <td>...</td>\n",
              "      <td>...</td>\n",
              "      <td>...</td>\n",
              "      <td>...</td>\n",
              "      <td>...</td>\n",
              "      <td>...</td>\n",
              "      <td>...</td>\n",
              "      <td>...</td>\n",
              "    </tr>\n",
              "    <tr>\n",
              "      <th>20211</th>\n",
              "      <td>Zimbabwe</td>\n",
              "      <td>ZWE</td>\n",
              "      <td>Rural land area where elevation is below 5 met...</td>\n",
              "      <td>AG.LND.EL5M.RU.ZS</td>\n",
              "      <td>NaN</td>\n",
              "      <td>NaN</td>\n",
              "      <td>NaN</td>\n",
              "      <td>NaN</td>\n",
              "      <td>NaN</td>\n",
              "      <td>NaN</td>\n",
              "      <td>...</td>\n",
              "      <td>NaN</td>\n",
              "      <td>NaN</td>\n",
              "      <td>0.000000</td>\n",
              "      <td>NaN</td>\n",
              "      <td>NaN</td>\n",
              "      <td>NaN</td>\n",
              "      <td>NaN</td>\n",
              "      <td>NaN</td>\n",
              "      <td>NaN</td>\n",
              "      <td>NaN</td>\n",
              "    </tr>\n",
              "    <tr>\n",
              "      <th>20212</th>\n",
              "      <td>Zimbabwe</td>\n",
              "      <td>ZWE</td>\n",
              "      <td>Rural land area where elevation is below 5 met...</td>\n",
              "      <td>AG.LND.EL5M.RU.K2</td>\n",
              "      <td>NaN</td>\n",
              "      <td>NaN</td>\n",
              "      <td>NaN</td>\n",
              "      <td>NaN</td>\n",
              "      <td>NaN</td>\n",
              "      <td>NaN</td>\n",
              "      <td>...</td>\n",
              "      <td>NaN</td>\n",
              "      <td>NaN</td>\n",
              "      <td>0.000000</td>\n",
              "      <td>NaN</td>\n",
              "      <td>NaN</td>\n",
              "      <td>NaN</td>\n",
              "      <td>NaN</td>\n",
              "      <td>NaN</td>\n",
              "      <td>NaN</td>\n",
              "      <td>NaN</td>\n",
              "    </tr>\n",
              "    <tr>\n",
              "      <th>20213</th>\n",
              "      <td>Zimbabwe</td>\n",
              "      <td>ZWE</td>\n",
              "      <td>Arable land (% of land area)</td>\n",
              "      <td>AG.LND.ARBL.ZS</td>\n",
              "      <td>NaN</td>\n",
              "      <td>4.872690</td>\n",
              "      <td>5.001939</td>\n",
              "      <td>5.131188</td>\n",
              "      <td>5.260437</td>\n",
              "      <td>5.337986</td>\n",
              "      <td>...</td>\n",
              "      <td>10.339925</td>\n",
              "      <td>10.339925</td>\n",
              "      <td>10.339925</td>\n",
              "      <td>10.339925</td>\n",
              "      <td>10.339925</td>\n",
              "      <td>10.339925</td>\n",
              "      <td>10.339925</td>\n",
              "      <td>10.339925</td>\n",
              "      <td>NaN</td>\n",
              "      <td>NaN</td>\n",
              "    </tr>\n",
              "    <tr>\n",
              "      <th>20214</th>\n",
              "      <td>Zimbabwe</td>\n",
              "      <td>ZWE</td>\n",
              "      <td>Agricultural land (% of land area)</td>\n",
              "      <td>AG.LND.AGRI.ZS</td>\n",
              "      <td>NaN</td>\n",
              "      <td>28.396019</td>\n",
              "      <td>28.615743</td>\n",
              "      <td>28.835466</td>\n",
              "      <td>29.055189</td>\n",
              "      <td>29.223213</td>\n",
              "      <td>...</td>\n",
              "      <td>41.876696</td>\n",
              "      <td>41.876696</td>\n",
              "      <td>41.876696</td>\n",
              "      <td>41.876696</td>\n",
              "      <td>41.876696</td>\n",
              "      <td>41.876696</td>\n",
              "      <td>41.876696</td>\n",
              "      <td>41.876696</td>\n",
              "      <td>NaN</td>\n",
              "      <td>NaN</td>\n",
              "    </tr>\n",
              "    <tr>\n",
              "      <th>20215</th>\n",
              "      <td>Zimbabwe</td>\n",
              "      <td>ZWE</td>\n",
              "      <td>Agricultural land (sq. km)</td>\n",
              "      <td>AG.LND.AGRI.K2</td>\n",
              "      <td>NaN</td>\n",
              "      <td>109850.000000</td>\n",
              "      <td>110700.000000</td>\n",
              "      <td>111550.000000</td>\n",
              "      <td>112400.000000</td>\n",
              "      <td>113050.000000</td>\n",
              "      <td>...</td>\n",
              "      <td>162000.000000</td>\n",
              "      <td>162000.000000</td>\n",
              "      <td>162000.000000</td>\n",
              "      <td>162000.000000</td>\n",
              "      <td>162000.000000</td>\n",
              "      <td>162000.000000</td>\n",
              "      <td>162000.000000</td>\n",
              "      <td>162000.000000</td>\n",
              "      <td>NaN</td>\n",
              "      <td>NaN</td>\n",
              "    </tr>\n",
              "  </tbody>\n",
              "</table>\n",
              "<p>20216 rows × 67 columns</p>\n",
              "</div>\n",
              "      <button class=\"colab-df-convert\" onclick=\"convertToInteractive('df-e4e92e92-6965-4c0b-8864-f711717ee316')\"\n",
              "              title=\"Convert this dataframe to an interactive table.\"\n",
              "              style=\"display:none;\">\n",
              "        \n",
              "  <svg xmlns=\"http://www.w3.org/2000/svg\" height=\"24px\"viewBox=\"0 0 24 24\"\n",
              "       width=\"24px\">\n",
              "    <path d=\"M0 0h24v24H0V0z\" fill=\"none\"/>\n",
              "    <path d=\"M18.56 5.44l.94 2.06.94-2.06 2.06-.94-2.06-.94-.94-2.06-.94 2.06-2.06.94zm-11 1L8.5 8.5l.94-2.06 2.06-.94-2.06-.94L8.5 2.5l-.94 2.06-2.06.94zm10 10l.94 2.06.94-2.06 2.06-.94-2.06-.94-.94-2.06-.94 2.06-2.06.94z\"/><path d=\"M17.41 7.96l-1.37-1.37c-.4-.4-.92-.59-1.43-.59-.52 0-1.04.2-1.43.59L10.3 9.45l-7.72 7.72c-.78.78-.78 2.05 0 2.83L4 21.41c.39.39.9.59 1.41.59.51 0 1.02-.2 1.41-.59l7.78-7.78 2.81-2.81c.8-.78.8-2.07 0-2.86zM5.41 20L4 18.59l7.72-7.72 1.47 1.35L5.41 20z\"/>\n",
              "  </svg>\n",
              "      </button>\n",
              "      \n",
              "  <style>\n",
              "    .colab-df-container {\n",
              "      display:flex;\n",
              "      flex-wrap:wrap;\n",
              "      gap: 12px;\n",
              "    }\n",
              "\n",
              "    .colab-df-convert {\n",
              "      background-color: #E8F0FE;\n",
              "      border: none;\n",
              "      border-radius: 50%;\n",
              "      cursor: pointer;\n",
              "      display: none;\n",
              "      fill: #1967D2;\n",
              "      height: 32px;\n",
              "      padding: 0 0 0 0;\n",
              "      width: 32px;\n",
              "    }\n",
              "\n",
              "    .colab-df-convert:hover {\n",
              "      background-color: #E2EBFA;\n",
              "      box-shadow: 0px 1px 2px rgba(60, 64, 67, 0.3), 0px 1px 3px 1px rgba(60, 64, 67, 0.15);\n",
              "      fill: #174EA6;\n",
              "    }\n",
              "\n",
              "    [theme=dark] .colab-df-convert {\n",
              "      background-color: #3B4455;\n",
              "      fill: #D2E3FC;\n",
              "    }\n",
              "\n",
              "    [theme=dark] .colab-df-convert:hover {\n",
              "      background-color: #434B5C;\n",
              "      box-shadow: 0px 1px 3px 1px rgba(0, 0, 0, 0.15);\n",
              "      filter: drop-shadow(0px 1px 2px rgba(0, 0, 0, 0.3));\n",
              "      fill: #FFFFFF;\n",
              "    }\n",
              "  </style>\n",
              "\n",
              "      <script>\n",
              "        const buttonEl =\n",
              "          document.querySelector('#df-e4e92e92-6965-4c0b-8864-f711717ee316 button.colab-df-convert');\n",
              "        buttonEl.style.display =\n",
              "          google.colab.kernel.accessAllowed ? 'block' : 'none';\n",
              "\n",
              "        async function convertToInteractive(key) {\n",
              "          const element = document.querySelector('#df-e4e92e92-6965-4c0b-8864-f711717ee316');\n",
              "          const dataTable =\n",
              "            await google.colab.kernel.invokeFunction('convertToInteractive',\n",
              "                                                     [key], {});\n",
              "          if (!dataTable) return;\n",
              "\n",
              "          const docLinkHtml = 'Like what you see? Visit the ' +\n",
              "            '<a target=\"_blank\" href=https://colab.research.google.com/notebooks/data_table.ipynb>data table notebook</a>'\n",
              "            + ' to learn more about interactive tables.';\n",
              "          element.innerHTML = '';\n",
              "          dataTable['output_type'] = 'display_data';\n",
              "          await google.colab.output.renderOutput(dataTable, element);\n",
              "          const docLink = document.createElement('div');\n",
              "          docLink.innerHTML = docLinkHtml;\n",
              "          element.appendChild(docLink);\n",
              "        }\n",
              "      </script>\n",
              "    </div>\n",
              "  </div>\n",
              "  "
            ]
          },
          "metadata": {},
          "execution_count": 4
        }
      ]
    },
    {
      "cell_type": "code",
      "source": [
        "data.info()"
      ],
      "metadata": {
        "colab": {
          "base_uri": "https://localhost:8080/"
        },
        "id": "Gd96rtx5lMxj",
        "outputId": "8acebafb-8d6b-4b77-db32-7d85cc5fcbcd"
      },
      "execution_count": 5,
      "outputs": [
        {
          "output_type": "stream",
          "name": "stdout",
          "text": [
            "<class 'pandas.core.frame.DataFrame'>\n",
            "RangeIndex: 20216 entries, 0 to 20215\n",
            "Data columns (total 67 columns):\n",
            " #   Column          Non-Null Count  Dtype  \n",
            "---  ------          --------------  -----  \n",
            " 0   Country Name    20216 non-null  object \n",
            " 1   Country Code    20216 non-null  object \n",
            " 2   Indicator Name  20216 non-null  object \n",
            " 3   Indicator Code  20216 non-null  object \n",
            " 4   1960            2494 non-null   float64\n",
            " 5   1961            4089 non-null   float64\n",
            " 6   1962            4123 non-null   float64\n",
            " 7   1963            4139 non-null   float64\n",
            " 8   1964            4180 non-null   float64\n",
            " 9   1965            4211 non-null   float64\n",
            " 10  1966            4217 non-null   float64\n",
            " 11  1967            4222 non-null   float64\n",
            " 12  1968            4233 non-null   float64\n",
            " 13  1969            4239 non-null   float64\n",
            " 14  1970            4784 non-null   float64\n",
            " 15  1971            6127 non-null   float64\n",
            " 16  1972            6143 non-null   float64\n",
            " 17  1973            6146 non-null   float64\n",
            " 18  1974            6154 non-null   float64\n",
            " 19  1975            6204 non-null   float64\n",
            " 20  1976            6227 non-null   float64\n",
            " 21  1977            6244 non-null   float64\n",
            " 22  1978            6243 non-null   float64\n",
            " 23  1979            6249 non-null   float64\n",
            " 24  1980            6303 non-null   float64\n",
            " 25  1981            6369 non-null   float64\n",
            " 26  1982            6361 non-null   float64\n",
            " 27  1983            6379 non-null   float64\n",
            " 28  1984            6389 non-null   float64\n",
            " 29  1985            6422 non-null   float64\n",
            " 30  1986            6436 non-null   float64\n",
            " 31  1987            6508 non-null   float64\n",
            " 32  1988            6501 non-null   float64\n",
            " 33  1989            6502 non-null   float64\n",
            " 34  1990            12603 non-null  float64\n",
            " 35  1991            11074 non-null  float64\n",
            " 36  1992            11425 non-null  float64\n",
            " 37  1993            11487 non-null  float64\n",
            " 38  1994            11576 non-null  float64\n",
            " 39  1995            11642 non-null  float64\n",
            " 40  1996            11649 non-null  float64\n",
            " 41  1997            11620 non-null  float64\n",
            " 42  1998            11667 non-null  float64\n",
            " 43  1999            11790 non-null  float64\n",
            " 44  2000            14536 non-null  float64\n",
            " 45  2001            11994 non-null  float64\n",
            " 46  2002            12051 non-null  float64\n",
            " 47  2003            12062 non-null  float64\n",
            " 48  2004            12216 non-null  float64\n",
            " 49  2005            12771 non-null  float64\n",
            " 50  2006            12374 non-null  float64\n",
            " 51  2007            12403 non-null  float64\n",
            " 52  2008            12707 non-null  float64\n",
            " 53  2009            12478 non-null  float64\n",
            " 54  2010            12726 non-null  float64\n",
            " 55  2011            12376 non-null  float64\n",
            " 56  2012            12343 non-null  float64\n",
            " 57  2013            11382 non-null  float64\n",
            " 58  2014            11451 non-null  float64\n",
            " 59  2015            12813 non-null  float64\n",
            " 60  2016            9808 non-null   float64\n",
            " 61  2017            8107 non-null   float64\n",
            " 62  2018            8127 non-null   float64\n",
            " 63  2019            8281 non-null   float64\n",
            " 64  2020            5908 non-null   float64\n",
            " 65  2021            3259 non-null   float64\n",
            " 66  2022            763 non-null    float64\n",
            "dtypes: float64(63), object(4)\n",
            "memory usage: 10.3+ MB\n"
          ]
        }
      ]
    },
    {
      "cell_type": "code",
      "source": [
        "selected_columns = ['1960', '1961', '1962', '1963', '1964', '1965', '1966', '1967', '1968', '1969',\n",
        "                    '1970', '1971', '1972', '1973', '1974', '1975', '1976', '1977', '1978', '1979',\n",
        "                    '1980', '1981', '1982', '1983', '1984', '1985', '1986', '1987', '1988', '1989',\n",
        "                    '1990', '1991', '1992', '1993', '1994', '1995', '1996', '1997', '1998', '1999',\n",
        "                    '2000', '2001', '2002', '2003', '2004', '2005', '2006', '2007', '2008', '2009',\n",
        "                    '2010', '2011', '2012', '2013', '2014', '2015', '2016', '2017', '2018', '2019',\n",
        "                    '2020', '2021', '2022']\n"
      ],
      "metadata": {
        "id": "MqovcAEtknMH"
      },
      "execution_count": 6,
      "outputs": []
    },
    {
      "cell_type": "code",
      "source": [
        "# Create a new DataFrame with the selected columns\n",
        "X = data[selected_columns]"
      ],
      "metadata": {
        "id": "848mU1RqknJN"
      },
      "execution_count": 7,
      "outputs": []
    },
    {
      "cell_type": "code",
      "source": [
        "X.fillna(0, inplace=True)"
      ],
      "metadata": {
        "colab": {
          "base_uri": "https://localhost:8080/"
        },
        "id": "SVHaVZSLknGm",
        "outputId": "9dfd7c0a-915b-4cdd-8ee1-14b669802d2d"
      },
      "execution_count": 8,
      "outputs": [
        {
          "output_type": "stream",
          "name": "stderr",
          "text": [
            "<ipython-input-8-67b4599ed24c>:1: SettingWithCopyWarning: \n",
            "A value is trying to be set on a copy of a slice from a DataFrame\n",
            "\n",
            "See the caveats in the documentation: https://pandas.pydata.org/pandas-docs/stable/user_guide/indexing.html#returning-a-view-versus-a-copy\n",
            "  X.fillna(0, inplace=True)\n"
          ]
        }
      ]
    },
    {
      "cell_type": "code",
      "source": [
        "scaler = StandardScaler()\n",
        "X_normalized = scaler.fit_transform(X)"
      ],
      "metadata": {
        "id": "0n2YnonrknEM"
      },
      "execution_count": 9,
      "outputs": []
    },
    {
      "cell_type": "code",
      "source": [
        "pca = PCA(n_components=2)\n",
        "X_pca = pca.fit_transform(X_normalized)"
      ],
      "metadata": {
        "id": "biEtKk45knBZ"
      },
      "execution_count": 10,
      "outputs": []
    },
    {
      "cell_type": "code",
      "source": [
        "inertia = []\n",
        "for k in range(1, 11):\n",
        "    kmeans = KMeans(n_clusters=k, random_state=42)\n",
        "    kmeans.fit(X_normalized)\n",
        "    inertia.append(kmeans.inertia_)\n",
        "\n",
        "# Plotting the elbow curve\n",
        "plt.plot(range(1, 11), inertia, marker='o')\n",
        "plt.xlabel('Number of Clusters')\n",
        "plt.ylabel('Inertia')\n",
        "plt.title('Elbow Curve')\n",
        "plt.show()"
      ],
      "metadata": {
        "colab": {
          "base_uri": "https://localhost:8080/",
          "height": 839
        },
        "id": "b-QNQ4JPkm-p",
        "outputId": "b3f07287-2d2a-4d89-eace-219f3d226c4a"
      },
      "execution_count": 11,
      "outputs": [
        {
          "output_type": "stream",
          "name": "stderr",
          "text": [
            "/usr/local/lib/python3.10/dist-packages/sklearn/cluster/_kmeans.py:870: FutureWarning: The default value of `n_init` will change from 10 to 'auto' in 1.4. Set the value of `n_init` explicitly to suppress the warning\n",
            "  warnings.warn(\n",
            "/usr/local/lib/python3.10/dist-packages/sklearn/cluster/_kmeans.py:870: FutureWarning: The default value of `n_init` will change from 10 to 'auto' in 1.4. Set the value of `n_init` explicitly to suppress the warning\n",
            "  warnings.warn(\n",
            "/usr/local/lib/python3.10/dist-packages/sklearn/cluster/_kmeans.py:870: FutureWarning: The default value of `n_init` will change from 10 to 'auto' in 1.4. Set the value of `n_init` explicitly to suppress the warning\n",
            "  warnings.warn(\n",
            "/usr/local/lib/python3.10/dist-packages/sklearn/cluster/_kmeans.py:870: FutureWarning: The default value of `n_init` will change from 10 to 'auto' in 1.4. Set the value of `n_init` explicitly to suppress the warning\n",
            "  warnings.warn(\n",
            "/usr/local/lib/python3.10/dist-packages/sklearn/cluster/_kmeans.py:870: FutureWarning: The default value of `n_init` will change from 10 to 'auto' in 1.4. Set the value of `n_init` explicitly to suppress the warning\n",
            "  warnings.warn(\n",
            "/usr/local/lib/python3.10/dist-packages/sklearn/cluster/_kmeans.py:870: FutureWarning: The default value of `n_init` will change from 10 to 'auto' in 1.4. Set the value of `n_init` explicitly to suppress the warning\n",
            "  warnings.warn(\n",
            "/usr/local/lib/python3.10/dist-packages/sklearn/cluster/_kmeans.py:870: FutureWarning: The default value of `n_init` will change from 10 to 'auto' in 1.4. Set the value of `n_init` explicitly to suppress the warning\n",
            "  warnings.warn(\n",
            "/usr/local/lib/python3.10/dist-packages/sklearn/cluster/_kmeans.py:870: FutureWarning: The default value of `n_init` will change from 10 to 'auto' in 1.4. Set the value of `n_init` explicitly to suppress the warning\n",
            "  warnings.warn(\n",
            "/usr/local/lib/python3.10/dist-packages/sklearn/cluster/_kmeans.py:870: FutureWarning: The default value of `n_init` will change from 10 to 'auto' in 1.4. Set the value of `n_init` explicitly to suppress the warning\n",
            "  warnings.warn(\n",
            "/usr/local/lib/python3.10/dist-packages/sklearn/cluster/_kmeans.py:870: FutureWarning: The default value of `n_init` will change from 10 to 'auto' in 1.4. Set the value of `n_init` explicitly to suppress the warning\n",
            "  warnings.warn(\n"
          ]
        },
        {
          "output_type": "display_data",
          "data": {
            "text/plain": [
              "<Figure size 640x480 with 1 Axes>"
            ],
            "image/png": "[encoded data removed]"
          },
          "metadata": {}
        }
      ]
    },
    {
      "cell_type": "code",
      "source": [
        "k = 4  # Choose the optimal number of clusters based on the elbow curve\n",
        "kmeans = KMeans(n_clusters=k, random_state=42)\n",
        "kmeans.fit(X_normalized)\n",
        "cluster_labels = kmeans.labels_\n",
        "cluster_centers = kmeans.cluster_centers_"
      ],
      "metadata": {
        "colab": {
          "base_uri": "https://localhost:8080/"
        },
        "id": "iBWAJ7Hdkm73",
        "outputId": "ca137e49-aae6-46f0-baeb-624fd9d14522"
      },
      "execution_count": 12,
      "outputs": [
        {
          "output_type": "stream",
          "name": "stderr",
          "text": [
            "/usr/local/lib/python3.10/dist-packages/sklearn/cluster/_kmeans.py:870: FutureWarning: The default value of `n_init` will change from 10 to 'auto' in 1.4. Set the value of `n_init` explicitly to suppress the warning\n",
            "  warnings.warn(\n"
          ]
        }
      ]
    },
    {
      "cell_type": "code",
      "source": [
        "plt.figure(figsize=(10, 8))\n",
        "plt.scatter(X_pca[:, 0], X_pca[:, 1], c=cluster_labels, cmap='viridis')\n",
        "plt.scatter(cluster_centers[:, 0], cluster_centers[:, 1], c='red', marker='x', label='Cluster Centers')\n",
        "plt.xlabel('Principal Component 1')\n",
        "plt.ylabel('Principal Component 2')\n",
        "plt.title('Clustering Results')\n",
        "plt.legend()\n",
        "plt.show()"
      ],
      "metadata": {
        "colab": {
          "base_uri": "https://localhost:8080/",
          "height": 718
        },
        "id": "ldfzlKl9km5R",
        "outputId": "8a081be4-4a68-4f7b-8681-02ef063f8d8e"
      },
      "execution_count": 13,
      "outputs": [
        {
          "output_type": "display_data",
          "data": {
            "text/plain": [
              "<Figure size 1000x800 with 1 Axes>"
            ],
            "image/png": "[encoded data removed]"
          },
          "metadata": {}
        }
      ]
    },
    {
      "cell_type": "markdown",
      "source": [
        "# **Exponential Smoothing**"
      ],
      "metadata": {
        "id": "XEG1A29SpJeg"
      }
    },
    {
      "cell_type": "code",
      "source": [
        "Arab_World_data = data[(data['Country Name'] == 'Arab World') & (data['Indicator Name'] == 'CO2 emissions (kt)')]"
      ],
      "metadata": {
        "id": "PNae8BzEtT7K"
      },
      "execution_count": 14,
      "outputs": []
    },
    {
      "cell_type": "code",
      "source": [
        "selected_year = ['1990', '1991', '1992', '1993', '1994', '1995', '1996', '1997', '1998', '1999','2000', '2001', '2002', '2003', '2004', '2005', '2006', '2007', '2008', '2009','2010', '2011', '2012', '2013', '2014', '2015', '2016', '2017', '2018', '2019']\n"
      ],
      "metadata": {
        "id": "T07688cCkm2x"
      },
      "execution_count": 15,
      "outputs": []
    },
    {
      "cell_type": "code",
      "source": [
        "year = [str(year) for year in range(1990, 2020)]\n",
        "Arab_World_data = Arab_World_data[year].values.flatten()"
      ],
      "metadata": {
        "id": "6Uc6Yjjmu-wY"
      },
      "execution_count": 21,
      "outputs": []
    },
    {
      "cell_type": "code",
      "source": [
        "Arab_World_data"
      ],
      "metadata": {
        "colab": {
          "base_uri": "https://localhost:8080/"
        },
        "id": "qWkj9lz0vJ8k",
        "outputId": "33907cb7-75ef-4bd6-b692-b544aedee213"
      },
      "execution_count": 22,
      "outputs": [
        {
          "output_type": "execute_result",
          "data": {
            "text/plain": [
              "array([ 632434.47 ,  634609.889,  688901.78 ,  741737.04 ,  786080.84 ,\n",
              "        810077.17 ,  838761.58 ,  879676.58 ,  884569.56 ,  896399.4  ,\n",
              "        933754.74 ,  985326.85 , 1018866.88 , 1049656.31 , 1106155.3  ,\n",
              "       1181610.3  , 1244545.85 , 1295588.9  , 1399901.26 , 1446949.8  ,\n",
              "       1532866.   , 1565758.   , 1674052.5  , 1703920.29 , 1761731.57 ,\n",
              "       1807587.05 , 1827972.85 , 1847736.22 , 1826262.12 , 1875283.52 ])"
            ]
          },
          "metadata": {},
          "execution_count": 22
        }
      ]
    },
    {
      "cell_type": "code",
      "source": [
        "# Perform exponential smoothing\n",
        "model = ExponentialSmoothing(Arab_World_data, trend='add', seasonal='add', seasonal_periods=4)\n",
        "fit_model = model.fit()"
      ],
      "metadata": {
        "colab": {
          "base_uri": "https://localhost:8080/"
        },
        "id": "-s9CU7rUuKfI",
        "outputId": "95ed55f2-2ad1-4adb-b53b-1bf507ea67e7"
      },
      "execution_count": 23,
      "outputs": [
        {
          "output_type": "stream",
          "name": "stderr",
          "text": [
            "/usr/local/lib/python3.10/dist-packages/statsmodels/tsa/holtwinters/model.py:915: ConvergenceWarning: Optimization failed to converge. Check mle_retvals.\n",
            "  warnings.warn(\n"
          ]
        }
      ]
    },
    {
      "cell_type": "code",
      "source": [
        "country = 'Arab World'"
      ],
      "metadata": {
        "id": "XzuHEQMKvoM0"
      },
      "execution_count": 24,
      "outputs": []
    },
    {
      "cell_type": "code",
      "source": [
        "# Generate forecasts for years 2020-2041\n",
        "forecast_years = [str(year) for year in range(2020, 2042)]\n",
        "forecasts = fit_model.forecast(len(forecast_years))\n",
        "\n",
        "# Plot the actual data, best fit curve, and forecasts\n",
        "plt.plot(year, Arab_World_data, label='Actual')\n",
        "plt.plot(year + forecast_years, fit_model.fittedvalues.tolist() + forecasts.tolist(), label='Exponential Smoothing')\n",
        "plt.xlabel('Year')\n",
        "plt.ylabel('CO2 Emissions')\n",
        "plt.title(f'Exponential Smoothing for {country} CO2 Emissions')\n",
        "plt.legend()\n",
        "plt.show()"
      ],
      "metadata": {
        "colab": {
          "base_uri": "https://localhost:8080/",
          "height": 487
        },
        "id": "YMnhzMb2uSiw",
        "outputId": "b4f24600-4c9b-4abd-8613-0120153c302f"
      },
      "execution_count": 25,
      "outputs": [
        {
          "output_type": "display_data",
          "data": {
            "text/plain": [
              "<Figure size 640x480 with 1 Axes>"
            ],
            "image/png": "[encoded data removed]"
          },
          "metadata": {}
        }
      ]
    },
    {
      "cell_type": "code",
      "source": [],
      "metadata": {
        "id": "ZhLCrOg4vsP4"
      },
      "execution_count": null,
      "outputs": []
    }
  ]
}